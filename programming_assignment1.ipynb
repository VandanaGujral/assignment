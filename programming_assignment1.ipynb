{
 "cells": [
  {
   "cell_type": "code",
   "execution_count": 1,
   "id": "399ce123",
   "metadata": {},
   "outputs": [
    {
     "name": "stdout",
     "output_type": "stream",
     "text": [
      "Hello Python\n"
     ]
    }
   ],
   "source": [
    "##1.Write a Python program to print \"Hello Python\"?\n",
    "print (\"Hello Python\")"
   ]
  },
  {
   "cell_type": "code",
   "execution_count": 2,
   "id": "c5009a92",
   "metadata": {},
   "outputs": [
    {
     "name": "stdout",
     "output_type": "stream",
     "text": [
      "Enter a number 4\n",
      "Enter 2nd number 3\n",
      "addition =  7\n",
      "division =  1\n"
     ]
    }
   ],
   "source": [
    "##2.Write a Python program to do arithmetical operations addition and division.?\n",
    "a=int(input(\"Enter a number \"))\n",
    "b=int(input(\"Enter 2nd number \"))\n",
    "print(\"addition = \",a+b)\n",
    "print(\"division = \",a-b)"
   ]
  },
  {
   "cell_type": "code",
   "execution_count": 3,
   "id": "3a246be9",
   "metadata": {},
   "outputs": [
    {
     "name": "stdout",
     "output_type": "stream",
     "text": [
      "enter the height of the trangle3\n",
      "enter the width of the trangle4\n",
      "area of the trangle 6.0\n"
     ]
    }
   ],
   "source": [
    "##3.Write a Python program to find the area of a triangle?\n",
    "a=int(input(\"enter the height of the trangle\"))\n",
    "b=int(input(\"enter the width of the trangle\"))\n",
    "area=(1/2)*(a*b)\n",
    "print(\"area of the trangle\",area)"
   ]
  },
  {
   "cell_type": "code",
   "execution_count": 5,
   "id": "4c51a774",
   "metadata": {},
   "outputs": [
    {
     "name": "stdout",
     "output_type": "stream",
     "text": [
      "Enter the value of a :5\n",
      "Enter the value of b :10\n",
      "a :  10\n",
      "b :  5\n"
     ]
    }
   ],
   "source": [
    "##4.Write a Python program to swap two variables?\n",
    "a=int(input(\"Enter the value of a :\"))\n",
    "b=int(input(\"Enter the value of b :\"))\n",
    "c=0\n",
    "c=a\n",
    "a=b\n",
    "b=c\n",
    "print(\"a : \",a)\n",
    "print(\"b : \",b)"
   ]
  },
  {
   "cell_type": "code",
   "execution_count": 7,
   "id": "2ab0ff58",
   "metadata": {},
   "outputs": [
    {
     "name": "stdout",
     "output_type": "stream",
     "text": [
      "0.09155207083795092\n"
     ]
    }
   ],
   "source": [
    "##5.Write a Python program to generate a random number?\n",
    "import random\n",
    "a = random.random()\n",
    "print(a)\n"
   ]
  },
  {
   "cell_type": "code",
   "execution_count": null,
   "id": "823486d0",
   "metadata": {},
   "outputs": [],
   "source": []
  }
 ],
 "metadata": {
  "kernelspec": {
   "display_name": "Python 3",
   "language": "python",
   "name": "python3"
  },
  "language_info": {
   "codemirror_mode": {
    "name": "ipython",
    "version": 3
   },
   "file_extension": ".py",
   "mimetype": "text/x-python",
   "name": "python",
   "nbconvert_exporter": "python",
   "pygments_lexer": "ipython3",
   "version": "3.8.8"
  }
 },
 "nbformat": 4,
 "nbformat_minor": 5
}
