{
 "cells": [
  {
   "cell_type": "code",
   "execution_count": 3,
   "id": "e94ec65f",
   "metadata": {},
   "outputs": [
    {
     "name": "stdout",
     "output_type": "stream",
     "text": [
      "Enter the distance in kilometers5\n",
      "distance in miles is:  3.10685595\n"
     ]
    }
   ],
   "source": [
    "##1.Write a Python program to convert kilometers to miles?\n",
    "##1 km = 0.62137119 miles\n",
    "##For n number of km = (n × 0.62137119) miles\n",
    "n=int(input(\"Enter the distance in kilometers\"))\n",
    "mile=n*0.62137119\n",
    "print(\"distance in miles is: \",mile)"
   ]
  },
  {
   "cell_type": "code",
   "execution_count": 4,
   "id": "0c756190",
   "metadata": {},
   "outputs": [
    {
     "name": "stdout",
     "output_type": "stream",
     "text": [
      "Enter the temperature in Celsius45\n",
      "temperature in Fahrenheit is:  113.0\n"
     ]
    }
   ],
   "source": [
    "##2.Write a Python program to convert Celsius to Fahrenheit?\n",
    "#Fahrenheit (°F) = (Celsius x 1.8) + 32\n",
    "c=int(input(\"Enter the temperature in Celsius\"))\n",
    "Fahrenheit = (c * 1.8) + 32\n",
    "print(\"temperature in Fahrenheit is: \",Fahrenheit)"
   ]
  },
  {
   "cell_type": "code",
   "execution_count": 10,
   "id": "67e3d5ee",
   "metadata": {},
   "outputs": [
    {
     "name": "stdout",
     "output_type": "stream",
     "text": [
      "Enter year2020\n",
      "Enter month2\n",
      "display the calendar : \n",
      "     February 2020\n",
      "Mo Tu We Th Fr Sa Su\n",
      "                1  2\n",
      " 3  4  5  6  7  8  9\n",
      "10 11 12 13 14 15 16\n",
      "17 18 19 20 21 22 23\n",
      "24 25 26 27 28 29\n",
      "\n"
     ]
    }
   ],
   "source": [
    "##3.Write a Python program to display calendar?\n",
    "import calendar\n",
    "yy=int(input(\"Enter year\"))\n",
    "mm=int(input(\"Enter month\"))\n",
    " \n",
    "print(\"display the calendar : \\n \",calendar.month(yy,mm))"
   ]
  },
  {
   "cell_type": "code",
   "execution_count": 6,
   "id": "10de891a",
   "metadata": {},
   "outputs": [
    {
     "name": "stdout",
     "output_type": "stream",
     "text": [
      "Enter a: 780\n",
      "Enter b: 80\n",
      "Enter c: 89\n",
      "The solution are : (-0.05128205128205128-0.33387529905470564j) (-0.05128205128205128+0.33387529905470564j)\n"
     ]
    }
   ],
   "source": [
    "##4.\tWrite a Python program to solve quadratic equation?\n",
    "import math  \n",
    "a = float(input('Enter a: '))  \n",
    "b = float(input('Enter b: '))  \n",
    "c = float(input('Enter c: '))  \n",
    "  \n",
    "# calculate the discriminant  \n",
    "d = (b**2) - (4*a*c)  \n",
    "  \n",
    "# find two solutions  \n",
    "sol1 = (-b-cmath.sqrt(d))/(2*a)  \n",
    "sol2 = (-b+cmath.sqrt(d))/(2*a)  \n",
    "print('The solution are :',sol1,sol2)  \n"
   ]
  },
  {
   "cell_type": "code",
   "execution_count": 2,
   "id": "b428cd51",
   "metadata": {},
   "outputs": [
    {
     "name": "stdout",
     "output_type": "stream",
     "text": [
      "Enter the value of a: 4\n",
      "Enter the value of b: 6\n",
      "value of a :  6\n",
      "value of b :  4\n"
     ]
    }
   ],
   "source": [
    "##5.Write a Python program to swap two variables without temp variable\n",
    "a=int(input(\"Enter the value of a: \"))\n",
    "b=int(input(\"Enter the value of b: \"))\n",
    "a=a+b\n",
    "b=a-b\n",
    "a=a-b\n",
    "print(\"value of a : \",a)\n",
    "print(\"value of b : \",b)"
   ]
  },
  {
   "cell_type": "code",
   "execution_count": null,
   "id": "848bb945",
   "metadata": {},
   "outputs": [],
   "source": [
    " "
   ]
  }
 ],
 "metadata": {
  "kernelspec": {
   "display_name": "Python 3",
   "language": "python",
   "name": "python3"
  },
  "language_info": {
   "codemirror_mode": {
    "name": "ipython",
    "version": 3
   },
   "file_extension": ".py",
   "mimetype": "text/x-python",
   "name": "python",
   "nbconvert_exporter": "python",
   "pygments_lexer": "ipython3",
   "version": "3.8.8"
  }
 },
 "nbformat": 4,
 "nbformat_minor": 5
}
