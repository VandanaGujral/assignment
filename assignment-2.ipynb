{
 "cells": [
  {
   "cell_type": "markdown",
   "id": "6288c295",
   "metadata": {},
   "source": [
    "# Assignment-2"
   ]
  },
  {
   "cell_type": "code",
   "execution_count": null,
   "id": "44e2f432",
   "metadata": {},
   "outputs": [],
   "source": [
    "1.What are the two values of the Boolean data type? How do you write them?"
   ]
  },
  {
   "cell_type": "markdown",
   "id": "ba301188",
   "metadata": {},
   "source": [
    "1.Ans->\n",
    "True and False are the two values of the boolean data type.\n",
    "there are various way to write boolean data type.some of them given bellow"
   ]
  },
  {
   "cell_type": "code",
   "execution_count": 2,
   "id": "217eb108",
   "metadata": {},
   "outputs": [
    {
     "data": {
      "text/plain": [
       "bool"
      ]
     },
     "execution_count": 2,
     "metadata": {},
     "output_type": "execute_result"
    }
   ],
   "source": [
    "x = True\n",
    "type(x)"
   ]
  },
  {
   "cell_type": "code",
   "execution_count": 3,
   "id": "94e54011",
   "metadata": {},
   "outputs": [
    {
     "data": {
      "text/plain": [
       "bool"
      ]
     },
     "execution_count": 3,
     "metadata": {},
     "output_type": "execute_result"
    }
   ],
   "source": [
    "y = False\n",
    "type(y)"
   ]
  },
  {
   "cell_type": "code",
   "execution_count": 4,
   "id": "197999fb",
   "metadata": {},
   "outputs": [
    {
     "name": "stdout",
     "output_type": "stream",
     "text": [
      "False\n"
     ]
    }
   ],
   "source": [
    "x = 4\n",
    "y = 9\n",
    "print(x == y)"
   ]
  },
  {
   "cell_type": "code",
   "execution_count": null,
   "id": "da57771e",
   "metadata": {},
   "outputs": [],
   "source": [
    "2. What are the three different types of Boolean operators?"
   ]
  },
  {
   "cell_type": "markdown",
   "id": "04e7cee5",
   "metadata": {},
   "source": [
    "2.Ans->\n",
    "there are three types of boolean operator-AND,OR,NOT\n",
    "AND->\n",
    "this operatoris returns False if any one of the inputs is False.\n",
    "othervise True if both statements are true\n",
    "\n",
    "A     B     A and B\n",
    "True  True  True\n",
    "False True  False\n",
    "True  False False\n",
    "\n",
    "\n",
    "OR->\n",
    "this operatoris returns True if any one of the inputs is True.\n",
    "othervise False if both statements are False\n",
    "\n",
    "A     B     A or B\n",
    "True  True  True\n",
    "False True  True\n",
    "True  False True\n",
    "False False False\n",
    "\n",
    "NOT->\n",
    "it retern false if result is true vice versa.\n",
    "A        not B\n",
    "True     False\n",
    "False    True"
   ]
  },
  {
   "cell_type": "markdown",
   "id": "d3fcea2c",
   "metadata": {},
   "source": [
    "3. Make a list of each Boolean operator's truth tables (i.e. every possible combination of Boolean values for the operator\n",
    "   and what it evaluate )."
   ]
  },
  {
   "cell_type": "code",
   "execution_count": 8,
   "id": "00ade4e4",
   "metadata": {},
   "outputs": [],
   "source": [
    "ListOfAND=[[0,0,0],\n",
    "          [0,1,0],\n",
    "          [1,0,0],\n",
    "          [1,1,1]]"
   ]
  },
  {
   "cell_type": "code",
   "execution_count": 9,
   "id": "5cc46da9",
   "metadata": {},
   "outputs": [
    {
     "data": {
      "text/plain": [
       "[[0, 0, 0], [0, 1, 0], [1, 0, 0], [1, 1, 1]]"
      ]
     },
     "execution_count": 9,
     "metadata": {},
     "output_type": "execute_result"
    }
   ],
   "source": [
    "ListOfAND"
   ]
  },
  {
   "cell_type": "code",
   "execution_count": 10,
   "id": "152e533d",
   "metadata": {},
   "outputs": [],
   "source": [
    "ListOfOR=[[1,0,1],\n",
    "          [0,1,1],\n",
    "          [0,0,0],\n",
    "          [1,1,1]]"
   ]
  },
  {
   "cell_type": "code",
   "execution_count": 11,
   "id": "9b70e190",
   "metadata": {},
   "outputs": [
    {
     "data": {
      "text/plain": [
       "[[1, 0, 1], [0, 1, 1], [0, 0, 0], [1, 1, 1]]"
      ]
     },
     "execution_count": 11,
     "metadata": {},
     "output_type": "execute_result"
    }
   ],
   "source": [
    "ListOfOR"
   ]
  },
  {
   "cell_type": "code",
   "execution_count": 12,
   "id": "6ae02f81",
   "metadata": {},
   "outputs": [],
   "source": [
    "ListOfNOT=[[1,0],\n",
    "          [0,1]]"
   ]
  },
  {
   "cell_type": "code",
   "execution_count": 13,
   "id": "7740cbb3",
   "metadata": {},
   "outputs": [
    {
     "data": {
      "text/plain": [
       "[[1, 0], [0, 1]]"
      ]
     },
     "execution_count": 13,
     "metadata": {},
     "output_type": "execute_result"
    }
   ],
   "source": [
    "ListOfNOT"
   ]
  },
  {
   "cell_type": "code",
   "execution_count": null,
   "id": "9bfbef07",
   "metadata": {},
   "outputs": [],
   "source": [
    "## 4. What are the values of the following expressions?\n",
    "(5 > 4) and (3 == 5)\n",
    "not (5 > 4)\n",
    "(5 > 4) or (3 == 5)\n",
    "not ((5 > 4) or (3 == 5))\n",
    "(True and True) and (True == False)\n",
    "(not False) or (not True)"
   ]
  },
  {
   "cell_type": "code",
   "execution_count": 15,
   "id": "e2f5d043",
   "metadata": {},
   "outputs": [
    {
     "data": {
      "text/plain": [
       "False"
      ]
     },
     "execution_count": 15,
     "metadata": {},
     "output_type": "execute_result"
    }
   ],
   "source": [
    "(5 > 4) and (3 == 5)"
   ]
  },
  {
   "cell_type": "code",
   "execution_count": 16,
   "id": "5361e47e",
   "metadata": {},
   "outputs": [
    {
     "data": {
      "text/plain": [
       "False"
      ]
     },
     "execution_count": 16,
     "metadata": {},
     "output_type": "execute_result"
    }
   ],
   "source": [
    "not (5 > 4)\n"
   ]
  },
  {
   "cell_type": "code",
   "execution_count": 17,
   "id": "9f78c269",
   "metadata": {},
   "outputs": [
    {
     "data": {
      "text/plain": [
       "True"
      ]
     },
     "execution_count": 17,
     "metadata": {},
     "output_type": "execute_result"
    }
   ],
   "source": [
    "(5 > 4) or (3 == 5)\n"
   ]
  },
  {
   "cell_type": "code",
   "execution_count": 18,
   "id": "98c4ab6b",
   "metadata": {},
   "outputs": [
    {
     "data": {
      "text/plain": [
       "False"
      ]
     },
     "execution_count": 18,
     "metadata": {},
     "output_type": "execute_result"
    }
   ],
   "source": [
    "not ((5 > 4) or (3 == 5))\n"
   ]
  },
  {
   "cell_type": "code",
   "execution_count": 19,
   "id": "067c2811",
   "metadata": {},
   "outputs": [
    {
     "data": {
      "text/plain": [
       "False"
      ]
     },
     "execution_count": 19,
     "metadata": {},
     "output_type": "execute_result"
    }
   ],
   "source": [
    "(True and True) and (True == False)\n"
   ]
  },
  {
   "cell_type": "code",
   "execution_count": 20,
   "id": "1b6a64f6",
   "metadata": {},
   "outputs": [
    {
     "data": {
      "text/plain": [
       "True"
      ]
     },
     "execution_count": 20,
     "metadata": {},
     "output_type": "execute_result"
    }
   ],
   "source": [
    "(not False) or (not True)"
   ]
  },
  {
   "cell_type": "markdown",
   "id": "7d87f240",
   "metadata": {},
   "source": [
    "5. What are the six comparison operators?\n",
    "5.Ans->\n",
    "==\n",
    "!=\n",
    "<\n",
    ">\n",
    "<=\n",
    ">=\n"
   ]
  },
  {
   "cell_type": "code",
   "execution_count": 15,
   "id": "af07533f",
   "metadata": {},
   "outputs": [
    {
     "data": {
      "text/plain": [
       "False"
      ]
     },
     "execution_count": 15,
     "metadata": {},
     "output_type": "execute_result"
    }
   ],
   "source": [
    "2==4"
   ]
  },
  {
   "cell_type": "code",
   "execution_count": 16,
   "id": "785ed0a2",
   "metadata": {},
   "outputs": [
    {
     "data": {
      "text/plain": [
       "True"
      ]
     },
     "execution_count": 16,
     "metadata": {},
     "output_type": "execute_result"
    }
   ],
   "source": [
    "2!=4"
   ]
  },
  {
   "cell_type": "code",
   "execution_count": 17,
   "id": "b326b083",
   "metadata": {},
   "outputs": [
    {
     "data": {
      "text/plain": [
       "True"
      ]
     },
     "execution_count": 17,
     "metadata": {},
     "output_type": "execute_result"
    }
   ],
   "source": [
    "4<6"
   ]
  },
  {
   "cell_type": "code",
   "execution_count": 18,
   "id": "4ac24660",
   "metadata": {},
   "outputs": [
    {
     "data": {
      "text/plain": [
       "False"
      ]
     },
     "execution_count": 18,
     "metadata": {},
     "output_type": "execute_result"
    }
   ],
   "source": [
    "4>6"
   ]
  },
  {
   "cell_type": "code",
   "execution_count": 19,
   "id": "5531a199",
   "metadata": {},
   "outputs": [
    {
     "data": {
      "text/plain": [
       "True"
      ]
     },
     "execution_count": 19,
     "metadata": {},
     "output_type": "execute_result"
    }
   ],
   "source": [
    "4<=5"
   ]
  },
  {
   "cell_type": "code",
   "execution_count": 20,
   "id": "3e4f76b3",
   "metadata": {},
   "outputs": [
    {
     "data": {
      "text/plain": [
       "False"
      ]
     },
     "execution_count": 20,
     "metadata": {},
     "output_type": "execute_result"
    }
   ],
   "source": [
    "5>=6"
   ]
  },
  {
   "cell_type": "markdown",
   "id": "e584ec89",
   "metadata": {},
   "source": [
    "6. How do you tell the difference between the equal to and assignment operators?\n",
    "   Describe a condition and when you would use one.\n",
    "6.Ans->\n",
    "when we use(=)it will assign the value in a perticular variable.\n",
    "ex.a=6\n",
    "   b=7\n",
    "when we compare the two variable then we can use equal(==)\n",
    "ex.\n",
    "a==b"
   ]
  },
  {
   "cell_type": "code",
   "execution_count": 23,
   "id": "db1b3876",
   "metadata": {},
   "outputs": [],
   "source": [
    "a=6\n",
    "b=7"
   ]
  },
  {
   "cell_type": "code",
   "execution_count": 24,
   "id": "66326f6a",
   "metadata": {},
   "outputs": [
    {
     "data": {
      "text/plain": [
       "False"
      ]
     },
     "execution_count": 24,
     "metadata": {},
     "output_type": "execute_result"
    }
   ],
   "source": [
    "a==b"
   ]
  },
  {
   "cell_type": "markdown",
   "id": "125fbc61",
   "metadata": {},
   "source": [
    "7. Identify the three blocks in this code:\n",
    "spam = 0\n",
    "if spam == 10:\n",
    "print('eggs')\n",
    "if spam > 5:\n",
    "print('bacon')\n",
    "else:\n",
    "print('ham')\n",
    "print('spam')\n",
    "print('spam')\n"
   ]
  },
  {
   "cell_type": "markdown",
   "id": "6a31f3de",
   "metadata": {},
   "source": [
    "#spam = 0                #declaration block\n",
    "if spam == 10:          #if block\n",
    "    print('eggs')\n",
    "    if spam > 5:        #nested if block\n",
    "        print('bacon')\n",
    "    else:               #nested else block\n",
    "        print('ham')    `\n",
    "    print('spam')\n",
    "print('spam')\n"
   ]
  },
  {
   "cell_type": "markdown",
   "id": "44ec1cf9",
   "metadata": {},
   "source": [
    "8. Write code that prints Hello if 1 is stored in spam, prints Howdy if 2 is stored in spam, and prints Greetings! if anything else is stored in spam."
   ]
  },
  {
   "cell_type": "code",
   "execution_count": 25,
   "id": "218c62a9",
   "metadata": {},
   "outputs": [
    {
     "name": "stdout",
     "output_type": "stream",
     "text": [
      "Enter any number4\n",
      "Greetings!\n"
     ]
    }
   ],
   "source": [
    "spam=int(input(\"Enter any number\"))\n",
    "#spam=7\n",
    "if spam==1:\n",
    "    print(\"Hello\")\n",
    "elif spam==2:\n",
    "    print(\"Howdy\")\n",
    "else:\n",
    "    print(\"Greetings!\")\n"
   ]
  },
  {
   "cell_type": "markdown",
   "id": "a0855ac2",
   "metadata": {},
   "source": [
    "9.If your programme is stuck in an endless loop, what keys you’ll press?\n",
    "9.Ans-> we can press Canopy's Run menu and then Interrupt kernel then restart kernel"
   ]
  },
  {
   "cell_type": "markdown",
   "id": "bf60a237",
   "metadata": {},
   "source": [
    "10. How can you tell the difference between break and continue?\n",
    "10.Ans->if you want to break your loop in any condition you can use break statement\n",
    "    if you want to skip any statment on any condition thaen you can use contineue"
   ]
  },
  {
   "cell_type": "markdown",
   "id": "49b86e19",
   "metadata": {},
   "source": [
    "11. In a for loop, what is the difference between range(10), range(0, 10), and range(0, 10, 1)?"
   ]
  },
  {
   "cell_type": "code",
   "execution_count": 12,
   "id": "cfa628c7",
   "metadata": {},
   "outputs": [
    {
     "name": "stdout",
     "output_type": "stream",
     "text": [
      "0\n",
      "1\n",
      "2\n",
      "3\n",
      "4\n",
      "5\n",
      "6\n",
      "7\n",
      "8\n",
      "9\n"
     ]
    }
   ],
   "source": [
    "for i in range(10):\n",
    "    print(i)"
   ]
  },
  {
   "cell_type": "code",
   "execution_count": 13,
   "id": "bb02f5f6",
   "metadata": {},
   "outputs": [
    {
     "name": "stdout",
     "output_type": "stream",
     "text": [
      "0\n",
      "1\n",
      "2\n",
      "3\n",
      "4\n",
      "5\n",
      "6\n",
      "7\n",
      "8\n",
      "9\n"
     ]
    }
   ],
   "source": [
    "for i in range(0,10):\n",
    "    print(i)"
   ]
  },
  {
   "cell_type": "code",
   "execution_count": 14,
   "id": "33963e81",
   "metadata": {},
   "outputs": [
    {
     "name": "stdout",
     "output_type": "stream",
     "text": [
      "0\n",
      "1\n",
      "2\n",
      "3\n",
      "4\n",
      "5\n",
      "6\n",
      "7\n",
      "8\n",
      "9\n"
     ]
    }
   ],
   "source": [
    "for i in range(0,10,1):\n",
    "    print(i)"
   ]
  },
  {
   "cell_type": "markdown",
   "id": "52e2ee51",
   "metadata": {},
   "source": [
    "12. Write a short program that prints the numbers 1 to 10 using a for loop. Then write an equivalent program that prints the numbers 1 to 10 using a while loop."
   ]
  },
  {
   "cell_type": "code",
   "execution_count": 10,
   "id": "46306be6",
   "metadata": {},
   "outputs": [
    {
     "name": "stdout",
     "output_type": "stream",
     "text": [
      "1\n",
      "2\n",
      "3\n",
      "4\n",
      "5\n",
      "6\n",
      "7\n",
      "8\n",
      "9\n",
      "10\n"
     ]
    }
   ],
   "source": [
    "for i in range(1,11):\n",
    "    print(i)"
   ]
  },
  {
   "cell_type": "code",
   "execution_count": 9,
   "id": "34600ecf",
   "metadata": {},
   "outputs": [
    {
     "name": "stdout",
     "output_type": "stream",
     "text": [
      "1\n",
      "2\n",
      "3\n",
      "4\n",
      "5\n",
      "6\n",
      "7\n",
      "8\n",
      "9\n",
      "10\n"
     ]
    }
   ],
   "source": [
    "i=1\n",
    "while i<=10:\n",
    "    print(i)\n",
    "    i=i+1"
   ]
  },
  {
   "cell_type": "markdown",
   "id": "21420bed",
   "metadata": {},
   "source": [
    "13. If you had a function named bacon() inside a module named spam, how would you call it after importing spam?\n",
    "13.Ans->we can use this way...\n",
    "\n",
    "import bacon from spam"
   ]
  },
  {
   "cell_type": "markdown",
   "id": "69b2c0f9",
   "metadata": {},
   "source": []
  }
 ],
 "metadata": {
  "kernelspec": {
   "display_name": "Python 3",
   "language": "python",
   "name": "python3"
  },
  "language_info": {
   "codemirror_mode": {
    "name": "ipython",
    "version": 3
   },
   "file_extension": ".py",
   "mimetype": "text/x-python",
   "name": "python",
   "nbconvert_exporter": "python",
   "pygments_lexer": "ipython3",
   "version": "3.8.8"
  }
 },
 "nbformat": 4,
 "nbformat_minor": 5
}
